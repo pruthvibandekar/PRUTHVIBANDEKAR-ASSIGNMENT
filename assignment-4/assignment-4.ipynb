{
  "metadata": {
    "kernelspec": {
      "name": "python",
      "display_name": "Python (Pyodide)",
      "language": "python"
    },
    "language_info": {
      "codemirror_mode": {
        "name": "python",
        "version": 3
      },
      "file_extension": ".py",
      "mimetype": "text/x-python",
      "name": "python",
      "nbconvert_exporter": "python",
      "pygments_lexer": "ipython3",
      "version": "3.8"
    }
  },
  "nbformat_minor": 5,
  "nbformat": 4,
  "cells": [
    {
      "id": "096bd482-ba80-44fe-8ee3-125f04b10ea1",
      "cell_type": "code",
      "source": "import pandas as pd\n\n# Use the correct path for the uploaded file\nfile_path = \"2021_CEV_Data__Current_Population_Survey_Civic_Engagement_and_Volunteering_Supplement.csv\"\n\n# Read the CSV file\ndf = pd.read_csv(file_path)\n\n# Display the first few rows\nprint(df.head())\n",
      "metadata": {
        "trusted": true
      },
      "outputs": [
        {
          "name": "stdout",
          "output_type": "stream",
          "text": "  Analysis Variable Name Original Variable Name Variable Type Format Name  \\\n0                 supwgt                pwnrwgt       Numeric         NaN   \n1                ssupwgt                pwsrwgt       Numeric         NaN   \n2              workpride                peswp1a   Categorical       agree   \n3           yesworkpride                peswp1a        Binary       dummy   \n4               workcont                peswp1b   Categorical       agree   \n\n                                               Label  \\\n0                      Nonresponse supplement weight   \n1                    Self-response supplement weight   \n2           I am proud to be working for my employer   \n3  Proud to be working for employer [peswp1a>=agree]   \n4          My workplace contributes to the community   \n\n            Full Question Text/Census Codebook Label In 2017 dataset  \\\n0                      Nonresponse supplement weight             Yes   \n1                    Self-response supplement weight              No   \n2  Now I'm going to read you a list of statements...              No   \n3                                                NaN              No   \n4  Now I'm going to read you a list of statements...              No   \n\n  In 2019 dataset In 2021 dataset  \\\n0             Yes             Yes   \n1              No             Yes   \n2              No             Yes   \n3              No             Yes   \n4              No             Yes   \n\n                                               Notes  \n0  Use with supplement variables pes1-pes18 and p...  \n1  Use with supplement variables only asked of se...  \n2                                                NaN  \n3                                                NaN  \n4                                                NaN  \n"
        }
      ],
      "execution_count": 10
    }
  ]
}